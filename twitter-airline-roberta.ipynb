{
 "cells": [
  {
   "cell_type": "markdown",
   "id": "e961859a",
   "metadata": {
    "papermill": {
     "duration": 0.005884,
     "end_time": "2022-10-22T09:26:35.801088",
     "exception": false,
     "start_time": "2022-10-22T09:26:35.795204",
     "status": "completed"
    },
    "tags": []
   },
   "source": [
    "#  Twitter Airline RoBERTa\n",
    "This notebook referred to the following noteboook.<br/>\n",
    "https://www.kaggle.com/code/junjitakeshima/ell-simple-roberta-starter-eng"
   ]
  },
  {
   "cell_type": "markdown",
   "id": "90174c4f",
   "metadata": {
    "papermill": {
     "duration": 0.004472,
     "end_time": "2022-10-22T09:26:35.810441",
     "exception": false,
     "start_time": "2022-10-22T09:26:35.805969",
     "status": "completed"
    },
    "tags": []
   },
   "source": [
    "# 1. Read Data"
   ]
  },
  {
   "cell_type": "code",
   "execution_count": 1,
   "id": "184d45a5",
   "metadata": {
    "_cell_guid": "b1076dfc-b9ad-4769-8c92-a6c4dae69d19",
    "_uuid": "8f2839f25d086af736a60e9eeb907d3b93b6e0e5",
    "execution": {
     "iopub.execute_input": "2022-10-22T09:26:35.822544Z",
     "iopub.status.busy": "2022-10-22T09:26:35.821830Z",
     "iopub.status.idle": "2022-10-22T09:26:48.586146Z",
     "shell.execute_reply": "2022-10-22T09:26:48.585098Z"
    },
    "papermill": {
     "duration": 12.774265,
     "end_time": "2022-10-22T09:26:48.589442",
     "exception": false,
     "start_time": "2022-10-22T09:26:35.815177",
     "status": "completed"
    },
    "tags": []
   },
   "outputs": [
    {
     "name": "stderr",
     "output_type": "stream",
     "text": [
      "2022-10-22 09:26:43.796441: I tensorflow/stream_executor/cuda/cuda_gpu_executor.cc:937] successful NUMA node read from SysFS had negative value (-1), but there must be at least one NUMA node, so returning NUMA node zero\n",
      "2022-10-22 09:26:43.797525: I tensorflow/stream_executor/cuda/cuda_gpu_executor.cc:937] successful NUMA node read from SysFS had negative value (-1), but there must be at least one NUMA node, so returning NUMA node zero\n",
      "2022-10-22 09:26:43.798216: I tensorflow/stream_executor/cuda/cuda_gpu_executor.cc:937] successful NUMA node read from SysFS had negative value (-1), but there must be at least one NUMA node, so returning NUMA node zero\n",
      "2022-10-22 09:26:43.800337: I tensorflow/core/platform/cpu_feature_guard.cc:142] This TensorFlow binary is optimized with oneAPI Deep Neural Network Library (oneDNN) to use the following CPU instructions in performance-critical operations:  AVX2 AVX512F FMA\n",
      "To enable them in other operations, rebuild TensorFlow with the appropriate compiler flags.\n",
      "2022-10-22 09:26:43.800645: I tensorflow/stream_executor/cuda/cuda_gpu_executor.cc:937] successful NUMA node read from SysFS had negative value (-1), but there must be at least one NUMA node, so returning NUMA node zero\n",
      "2022-10-22 09:26:43.801380: I tensorflow/stream_executor/cuda/cuda_gpu_executor.cc:937] successful NUMA node read from SysFS had negative value (-1), but there must be at least one NUMA node, so returning NUMA node zero\n",
      "2022-10-22 09:26:43.802106: I tensorflow/stream_executor/cuda/cuda_gpu_executor.cc:937] successful NUMA node read from SysFS had negative value (-1), but there must be at least one NUMA node, so returning NUMA node zero\n",
      "2022-10-22 09:26:48.215539: I tensorflow/stream_executor/cuda/cuda_gpu_executor.cc:937] successful NUMA node read from SysFS had negative value (-1), but there must be at least one NUMA node, so returning NUMA node zero\n",
      "2022-10-22 09:26:48.216427: I tensorflow/stream_executor/cuda/cuda_gpu_executor.cc:937] successful NUMA node read from SysFS had negative value (-1), but there must be at least one NUMA node, so returning NUMA node zero\n",
      "2022-10-22 09:26:48.217105: I tensorflow/stream_executor/cuda/cuda_gpu_executor.cc:937] successful NUMA node read from SysFS had negative value (-1), but there must be at least one NUMA node, so returning NUMA node zero\n",
      "2022-10-22 09:26:48.217733: I tensorflow/core/common_runtime/gpu/gpu_device.cc:1510] Created device /job:localhost/replica:0/task:0/device:GPU:0 with 15043 MB memory:  -> device: 0, name: Tesla P100-PCIE-16GB, pci bus id: 0000:00:04.0, compute capability: 6.0\n"
     ]
    }
   ],
   "source": [
    "import random\n",
    "import numpy as np\n",
    "import pandas as pd\n",
    "import tensorflow as tf\n",
    "from tensorflow.keras.layers import Input, Dense\n",
    "from tensorflow.keras.callbacks import EarlyStopping, ModelCheckpoint\n",
    "import transformers\n",
    "from transformers import RobertaTokenizer, TFRobertaModel\n",
    "transformers.logging.set_verbosity_error()\n",
    "import re\n",
    "pd.set_option(\"display.max_columns\", None)"
   ]
  },
  {
   "cell_type": "code",
   "execution_count": 2,
   "id": "f126fd6a",
   "metadata": {
    "execution": {
     "iopub.execute_input": "2022-10-22T09:26:48.600882Z",
     "iopub.status.busy": "2022-10-22T09:26:48.600390Z",
     "iopub.status.idle": "2022-10-22T09:26:48.733562Z",
     "shell.execute_reply": "2022-10-22T09:26:48.732613Z"
    },
    "papermill": {
     "duration": 0.141025,
     "end_time": "2022-10-22T09:26:48.735610",
     "exception": false,
     "start_time": "2022-10-22T09:26:48.594585",
     "status": "completed"
    },
    "tags": []
   },
   "outputs": [
    {
     "data": {
      "text/html": [
       "<div>\n",
       "<style scoped>\n",
       "    .dataframe tbody tr th:only-of-type {\n",
       "        vertical-align: middle;\n",
       "    }\n",
       "\n",
       "    .dataframe tbody tr th {\n",
       "        vertical-align: top;\n",
       "    }\n",
       "\n",
       "    .dataframe thead th {\n",
       "        text-align: right;\n",
       "    }\n",
       "</style>\n",
       "<table border=\"1\" class=\"dataframe\">\n",
       "  <thead>\n",
       "    <tr style=\"text-align: right;\">\n",
       "      <th></th>\n",
       "      <th>0</th>\n",
       "      <th>1</th>\n",
       "      <th>2</th>\n",
       "    </tr>\n",
       "  </thead>\n",
       "  <tbody>\n",
       "    <tr>\n",
       "      <th>tweet_id</th>\n",
       "      <td>570306133677760513</td>\n",
       "      <td>570301130888122368</td>\n",
       "      <td>570301083672813571</td>\n",
       "    </tr>\n",
       "    <tr>\n",
       "      <th>airline_sentiment</th>\n",
       "      <td>neutral</td>\n",
       "      <td>positive</td>\n",
       "      <td>neutral</td>\n",
       "    </tr>\n",
       "    <tr>\n",
       "      <th>airline_sentiment_confidence</th>\n",
       "      <td>1.0</td>\n",
       "      <td>0.3486</td>\n",
       "      <td>0.6837</td>\n",
       "    </tr>\n",
       "    <tr>\n",
       "      <th>negativereason</th>\n",
       "      <td>NaN</td>\n",
       "      <td>NaN</td>\n",
       "      <td>NaN</td>\n",
       "    </tr>\n",
       "    <tr>\n",
       "      <th>negativereason_confidence</th>\n",
       "      <td>NaN</td>\n",
       "      <td>0.0</td>\n",
       "      <td>NaN</td>\n",
       "    </tr>\n",
       "    <tr>\n",
       "      <th>airline</th>\n",
       "      <td>Virgin America</td>\n",
       "      <td>Virgin America</td>\n",
       "      <td>Virgin America</td>\n",
       "    </tr>\n",
       "    <tr>\n",
       "      <th>airline_sentiment_gold</th>\n",
       "      <td>NaN</td>\n",
       "      <td>NaN</td>\n",
       "      <td>NaN</td>\n",
       "    </tr>\n",
       "    <tr>\n",
       "      <th>name</th>\n",
       "      <td>cairdin</td>\n",
       "      <td>jnardino</td>\n",
       "      <td>yvonnalynn</td>\n",
       "    </tr>\n",
       "    <tr>\n",
       "      <th>negativereason_gold</th>\n",
       "      <td>NaN</td>\n",
       "      <td>NaN</td>\n",
       "      <td>NaN</td>\n",
       "    </tr>\n",
       "    <tr>\n",
       "      <th>retweet_count</th>\n",
       "      <td>0</td>\n",
       "      <td>0</td>\n",
       "      <td>0</td>\n",
       "    </tr>\n",
       "    <tr>\n",
       "      <th>text</th>\n",
       "      <td>@VirginAmerica What @dhepburn said.</td>\n",
       "      <td>@VirginAmerica plus you've added commercials t...</td>\n",
       "      <td>@VirginAmerica I didn't today... Must mean I n...</td>\n",
       "    </tr>\n",
       "    <tr>\n",
       "      <th>tweet_coord</th>\n",
       "      <td>NaN</td>\n",
       "      <td>NaN</td>\n",
       "      <td>NaN</td>\n",
       "    </tr>\n",
       "    <tr>\n",
       "      <th>tweet_created</th>\n",
       "      <td>2015-02-24 11:35:52 -0800</td>\n",
       "      <td>2015-02-24 11:15:59 -0800</td>\n",
       "      <td>2015-02-24 11:15:48 -0800</td>\n",
       "    </tr>\n",
       "    <tr>\n",
       "      <th>tweet_location</th>\n",
       "      <td>NaN</td>\n",
       "      <td>NaN</td>\n",
       "      <td>Lets Play</td>\n",
       "    </tr>\n",
       "    <tr>\n",
       "      <th>user_timezone</th>\n",
       "      <td>Eastern Time (US &amp; Canada)</td>\n",
       "      <td>Pacific Time (US &amp; Canada)</td>\n",
       "      <td>Central Time (US &amp; Canada)</td>\n",
       "    </tr>\n",
       "  </tbody>\n",
       "</table>\n",
       "</div>"
      ],
      "text/plain": [
       "                                                                0  \\\n",
       "tweet_id                                       570306133677760513   \n",
       "airline_sentiment                                         neutral   \n",
       "airline_sentiment_confidence                                  1.0   \n",
       "negativereason                                                NaN   \n",
       "negativereason_confidence                                     NaN   \n",
       "airline                                            Virgin America   \n",
       "airline_sentiment_gold                                        NaN   \n",
       "name                                                      cairdin   \n",
       "negativereason_gold                                           NaN   \n",
       "retweet_count                                                   0   \n",
       "text                          @VirginAmerica What @dhepburn said.   \n",
       "tweet_coord                                                   NaN   \n",
       "tweet_created                           2015-02-24 11:35:52 -0800   \n",
       "tweet_location                                                NaN   \n",
       "user_timezone                          Eastern Time (US & Canada)   \n",
       "\n",
       "                                                                              1  \\\n",
       "tweet_id                                                     570301130888122368   \n",
       "airline_sentiment                                                      positive   \n",
       "airline_sentiment_confidence                                             0.3486   \n",
       "negativereason                                                              NaN   \n",
       "negativereason_confidence                                                   0.0   \n",
       "airline                                                          Virgin America   \n",
       "airline_sentiment_gold                                                      NaN   \n",
       "name                                                                   jnardino   \n",
       "negativereason_gold                                                         NaN   \n",
       "retweet_count                                                                 0   \n",
       "text                          @VirginAmerica plus you've added commercials t...   \n",
       "tweet_coord                                                                 NaN   \n",
       "tweet_created                                         2015-02-24 11:15:59 -0800   \n",
       "tweet_location                                                              NaN   \n",
       "user_timezone                                        Pacific Time (US & Canada)   \n",
       "\n",
       "                                                                              2  \n",
       "tweet_id                                                     570301083672813571  \n",
       "airline_sentiment                                                       neutral  \n",
       "airline_sentiment_confidence                                             0.6837  \n",
       "negativereason                                                              NaN  \n",
       "negativereason_confidence                                                   NaN  \n",
       "airline                                                          Virgin America  \n",
       "airline_sentiment_gold                                                      NaN  \n",
       "name                                                                 yvonnalynn  \n",
       "negativereason_gold                                                         NaN  \n",
       "retweet_count                                                                 0  \n",
       "text                          @VirginAmerica I didn't today... Must mean I n...  \n",
       "tweet_coord                                                                 NaN  \n",
       "tweet_created                                         2015-02-24 11:15:48 -0800  \n",
       "tweet_location                                                        Lets Play  \n",
       "user_timezone                                        Central Time (US & Canada)  "
      ]
     },
     "metadata": {},
     "output_type": "display_data"
    }
   ],
   "source": [
    "data0 = pd.read_csv('../input/twitter-airline-sentiment/Tweets.csv')\n",
    "display(data0[0:3].T)"
   ]
  },
  {
   "cell_type": "code",
   "execution_count": 3,
   "id": "e06cc22d",
   "metadata": {
    "execution": {
     "iopub.execute_input": "2022-10-22T09:26:48.748004Z",
     "iopub.status.busy": "2022-10-22T09:26:48.747144Z",
     "iopub.status.idle": "2022-10-22T09:26:48.763736Z",
     "shell.execute_reply": "2022-10-22T09:26:48.762728Z"
    },
    "papermill": {
     "duration": 0.024938,
     "end_time": "2022-10-22T09:26:48.765912",
     "exception": false,
     "start_time": "2022-10-22T09:26:48.740974",
     "status": "completed"
    },
    "tags": []
   },
   "outputs": [
    {
     "data": {
      "text/plain": [
       "negative    9178\n",
       "neutral     3099\n",
       "positive    2363\n",
       "Name: airline_sentiment, dtype: int64"
      ]
     },
     "execution_count": 3,
     "metadata": {},
     "output_type": "execute_result"
    }
   ],
   "source": [
    "data=data0[['airline_sentiment','text']]\n",
    "data=data.dropna()\n",
    "data['airline_sentiment'].value_counts()"
   ]
  },
  {
   "cell_type": "code",
   "execution_count": 4,
   "id": "074b1796",
   "metadata": {
    "execution": {
     "iopub.execute_input": "2022-10-22T09:26:48.777953Z",
     "iopub.status.busy": "2022-10-22T09:26:48.777170Z",
     "iopub.status.idle": "2022-10-22T09:26:48.786716Z",
     "shell.execute_reply": "2022-10-22T09:26:48.785379Z"
    },
    "papermill": {
     "duration": 0.018007,
     "end_time": "2022-10-22T09:26:48.789213",
     "exception": false,
     "start_time": "2022-10-22T09:26:48.771206",
     "status": "completed"
    },
    "tags": []
   },
   "outputs": [
    {
     "name": "stdout",
     "output_type": "stream",
     "text": [
      "{'negative': 0, 'neutral': 1, 'positive': 2}\n"
     ]
    }
   ],
   "source": [
    "Name0=data['airline_sentiment'].unique().tolist()\n",
    "Name=sorted(Name0)\n",
    "N=list(range(len(Name)))\n",
    "normal_mapping=dict(zip(Name,N)) \n",
    "reverse_mapping=dict(zip(N,Name)) \n",
    "print(normal_mapping)\n",
    "data['airline_sentiment']=data['airline_sentiment'].map(normal_mapping)"
   ]
  },
  {
   "cell_type": "code",
   "execution_count": 5,
   "id": "190b9ae6",
   "metadata": {
    "execution": {
     "iopub.execute_input": "2022-10-22T09:26:48.801553Z",
     "iopub.status.busy": "2022-10-22T09:26:48.800876Z",
     "iopub.status.idle": "2022-10-22T09:26:48.816301Z",
     "shell.execute_reply": "2022-10-22T09:26:48.815411Z"
    },
    "papermill": {
     "duration": 0.023297,
     "end_time": "2022-10-22T09:26:48.818247",
     "exception": false,
     "start_time": "2022-10-22T09:26:48.794950",
     "status": "completed"
    },
    "tags": []
   },
   "outputs": [],
   "source": [
    "n=len(data)\n",
    "N=list(range(n))\n",
    "random.shuffle(N)"
   ]
  },
  {
   "cell_type": "code",
   "execution_count": 6,
   "id": "e3b78404",
   "metadata": {
    "execution": {
     "iopub.execute_input": "2022-10-22T09:26:48.830045Z",
     "iopub.status.busy": "2022-10-22T09:26:48.829379Z",
     "iopub.status.idle": "2022-10-22T09:26:48.836089Z",
     "shell.execute_reply": "2022-10-22T09:26:48.835266Z"
    },
    "papermill": {
     "duration": 0.014657,
     "end_time": "2022-10-22T09:26:48.837995",
     "exception": false,
     "start_time": "2022-10-22T09:26:48.823338",
     "status": "completed"
    },
    "tags": []
   },
   "outputs": [],
   "source": [
    "train_df = data.iloc[N[0:(n//10)*3]].reset_index(drop=True)\n",
    "test_df = data.iloc[N[(n//10)*3:(n//10)*4]].reset_index(drop=True)"
   ]
  },
  {
   "cell_type": "code",
   "execution_count": 7,
   "id": "3d5059e9",
   "metadata": {
    "execution": {
     "iopub.execute_input": "2022-10-22T09:26:48.850068Z",
     "iopub.status.busy": "2022-10-22T09:26:48.849233Z",
     "iopub.status.idle": "2022-10-22T09:26:48.866236Z",
     "shell.execute_reply": "2022-10-22T09:26:48.865420Z"
    },
    "papermill": {
     "duration": 0.02486,
     "end_time": "2022-10-22T09:26:48.868192",
     "exception": false,
     "start_time": "2022-10-22T09:26:48.843332",
     "status": "completed"
    },
    "tags": []
   },
   "outputs": [],
   "source": [
    "train_df[\"text\"] = train_df[\"text\"].replace(re.compile(r'[\\n\\r\\t]'), ' ', regex=True)\n",
    "test_df[\"text\"] = test_df[\"text\"].replace(re.compile(r'[\\n\\r\\t]'), ' ', regex=True)"
   ]
  },
  {
   "cell_type": "markdown",
   "id": "938b79a0",
   "metadata": {
    "papermill": {
     "duration": 0.005006,
     "end_time": "2022-10-22T09:26:48.878377",
     "exception": false,
     "start_time": "2022-10-22T09:26:48.873371",
     "status": "completed"
    },
    "tags": []
   },
   "source": [
    "# 2. Tokenize and create data"
   ]
  },
  {
   "cell_type": "code",
   "execution_count": 8,
   "id": "08a1aa25",
   "metadata": {
    "execution": {
     "iopub.execute_input": "2022-10-22T09:26:48.889821Z",
     "iopub.status.busy": "2022-10-22T09:26:48.889543Z",
     "iopub.status.idle": "2022-10-22T09:26:49.010542Z",
     "shell.execute_reply": "2022-10-22T09:26:49.009354Z"
    },
    "papermill": {
     "duration": 0.129753,
     "end_time": "2022-10-22T09:26:49.013253",
     "exception": false,
     "start_time": "2022-10-22T09:26:48.883500",
     "status": "completed"
    },
    "tags": []
   },
   "outputs": [],
   "source": [
    "tokenizer = RobertaTokenizer.from_pretrained(\"../input/roberta-base/\")\n",
    "max_len = 128"
   ]
  },
  {
   "cell_type": "code",
   "execution_count": 9,
   "id": "065af86f",
   "metadata": {
    "execution": {
     "iopub.execute_input": "2022-10-22T09:26:49.027743Z",
     "iopub.status.busy": "2022-10-22T09:26:49.026124Z",
     "iopub.status.idle": "2022-10-22T09:26:49.032512Z",
     "shell.execute_reply": "2022-10-22T09:26:49.031625Z"
    },
    "papermill": {
     "duration": 0.014985,
     "end_time": "2022-10-22T09:26:49.034611",
     "exception": false,
     "start_time": "2022-10-22T09:26:49.019626",
     "status": "completed"
    },
    "tags": []
   },
   "outputs": [],
   "source": [
    "def create_data(text):\n",
    "    \n",
    "    encoded = tokenizer.batch_encode_plus(\n",
    "        text,\n",
    "        add_special_tokens = True,\n",
    "        max_length= max_len,\n",
    "        padding='max_length',\n",
    "        truncation=True,\n",
    "        return_attention_mask=True)\n",
    "\n",
    "    input_ids       = np.array(encoded[\"input_ids\"], dtype=\"int32\")\n",
    "    attention_masks = np.array(encoded[\"attention_mask\"], dtype=\"int32\")\n",
    "\n",
    "    return {\"input_ids\": input_ids, \"attention_masks\": attention_masks}"
   ]
  },
  {
   "cell_type": "code",
   "execution_count": 10,
   "id": "dac00410",
   "metadata": {
    "execution": {
     "iopub.execute_input": "2022-10-22T09:26:49.046234Z",
     "iopub.status.busy": "2022-10-22T09:26:49.045963Z",
     "iopub.status.idle": "2022-10-22T09:26:50.488377Z",
     "shell.execute_reply": "2022-10-22T09:26:50.487386Z"
    },
    "papermill": {
     "duration": 1.450927,
     "end_time": "2022-10-22T09:26:50.490729",
     "exception": false,
     "start_time": "2022-10-22T09:26:49.039802",
     "status": "completed"
    },
    "tags": []
   },
   "outputs": [],
   "source": [
    "train_data   = create_data(train_df['text'])"
   ]
  },
  {
   "cell_type": "code",
   "execution_count": 11,
   "id": "7b7605ca",
   "metadata": {
    "execution": {
     "iopub.execute_input": "2022-10-22T09:26:50.503849Z",
     "iopub.status.busy": "2022-10-22T09:26:50.502939Z",
     "iopub.status.idle": "2022-10-22T09:26:50.508684Z",
     "shell.execute_reply": "2022-10-22T09:26:50.507869Z"
    },
    "papermill": {
     "duration": 0.014288,
     "end_time": "2022-10-22T09:26:50.510664",
     "exception": false,
     "start_time": "2022-10-22T09:26:50.496376",
     "status": "completed"
    },
    "tags": []
   },
   "outputs": [],
   "source": [
    "train = []\n",
    "train.append(train_df[\"airline_sentiment\"].to_list())\n"
   ]
  },
  {
   "cell_type": "markdown",
   "id": "ff7bcb5f",
   "metadata": {
    "papermill": {
     "duration": 0.004904,
     "end_time": "2022-10-22T09:26:50.521090",
     "exception": false,
     "start_time": "2022-10-22T09:26:50.516186",
     "status": "completed"
    },
    "tags": []
   },
   "source": [
    "# 3. Build Model"
   ]
  },
  {
   "cell_type": "code",
   "execution_count": 12,
   "id": "039f40f4",
   "metadata": {
    "execution": {
     "iopub.execute_input": "2022-10-22T09:26:50.533733Z",
     "iopub.status.busy": "2022-10-22T09:26:50.532336Z",
     "iopub.status.idle": "2022-10-22T09:26:50.540051Z",
     "shell.execute_reply": "2022-10-22T09:26:50.539196Z"
    },
    "papermill": {
     "duration": 0.015741,
     "end_time": "2022-10-22T09:26:50.541964",
     "exception": false,
     "start_time": "2022-10-22T09:26:50.526223",
     "status": "completed"
    },
    "tags": []
   },
   "outputs": [],
   "source": [
    "def build_model():\n",
    "    \n",
    "    model_ids  = Input(shape=(max_len, ), dtype = tf.int32)\n",
    "    model_mask = Input(shape=(max_len, ), dtype = tf.int32)\n",
    "    \n",
    "    roberta_model = TFRobertaModel.from_pretrained(\"../input/roberta-base/\")\n",
    "    \n",
    "    x = roberta_model(input_ids = model_ids, \n",
    "                      attention_mask = model_mask)       \n",
    "    x = tf.keras.layers.GlobalAveragePooling1D()(x.last_hidden_state)    \n",
    "    outputs = Dense(len(Name))(x) ####\n",
    "    \n",
    "    model = tf.keras.Model(inputs = [model_ids, model_mask], outputs = outputs)\n",
    "    \n",
    "    model.compile(\n",
    "        optimizer = tf.keras.optimizers.Adam(),\n",
    "        loss = \"mse\",\n",
    "        metrics=[\"mse\"])\n",
    "    return model"
   ]
  },
  {
   "cell_type": "code",
   "execution_count": 13,
   "id": "ec4dca5d",
   "metadata": {
    "execution": {
     "iopub.execute_input": "2022-10-22T09:26:50.554410Z",
     "iopub.status.busy": "2022-10-22T09:26:50.553029Z",
     "iopub.status.idle": "2022-10-22T09:26:50.558494Z",
     "shell.execute_reply": "2022-10-22T09:26:50.557660Z"
    },
    "papermill": {
     "duration": 0.013365,
     "end_time": "2022-10-22T09:26:50.560480",
     "exception": false,
     "start_time": "2022-10-22T09:26:50.547115",
     "status": "completed"
    },
    "tags": []
   },
   "outputs": [],
   "source": [
    "def scheduler(epoch):\n",
    "    learning_rate = 2e-5\n",
    "    if epoch == 0:\n",
    "        return learning_rate * 0.05\n",
    "    else:\n",
    "        return learning_rate * (0.9**epoch)\n",
    "    \n",
    "callback_lr = tf.keras.callbacks.LearningRateScheduler(scheduler)"
   ]
  },
  {
   "cell_type": "code",
   "execution_count": 14,
   "id": "9bcfd326",
   "metadata": {
    "execution": {
     "iopub.execute_input": "2022-10-22T09:26:50.572275Z",
     "iopub.status.busy": "2022-10-22T09:26:50.571431Z",
     "iopub.status.idle": "2022-10-22T09:26:50.577657Z",
     "shell.execute_reply": "2022-10-22T09:26:50.576869Z"
    },
    "papermill": {
     "duration": 0.014019,
     "end_time": "2022-10-22T09:26:50.579570",
     "exception": false,
     "start_time": "2022-10-22T09:26:50.565551",
     "status": "completed"
    },
    "tags": []
   },
   "outputs": [],
   "source": [
    "def get_model(train_col) :\n",
    "    \n",
    "    model = build_model()\n",
    "    model.fit((np.array(train_data['input_ids']),\n",
    "               np.array(train_data['attention_masks'])),\n",
    "        np.array(train_col).ravel(), \n",
    "        epochs = 10,\n",
    "        shuffle=True,\n",
    "        callbacks = [EarlyStopping(monitor='val_mse', patience=3, restore_best_weights=True), \n",
    "                     ModelCheckpoint('roberta_uspppm.h5', monitor='val_mse', \n",
    "                                     save_best_only=True, save_weights_only=True), \n",
    "                     callback_lr],                     \n",
    "        batch_size = 16,\n",
    "        validation_split=0.2 )\n",
    "    \n",
    "    return model"
   ]
  },
  {
   "cell_type": "markdown",
   "id": "2e66e9d1",
   "metadata": {
    "papermill": {
     "duration": 0.005031,
     "end_time": "2022-10-22T09:26:50.589930",
     "exception": false,
     "start_time": "2022-10-22T09:26:50.584899",
     "status": "completed"
    },
    "tags": []
   },
   "source": [
    "# 4. Get Model\n"
   ]
  },
  {
   "cell_type": "code",
   "execution_count": 15,
   "id": "29a19607",
   "metadata": {
    "execution": {
     "iopub.execute_input": "2022-10-22T09:26:50.601592Z",
     "iopub.status.busy": "2022-10-22T09:26:50.600864Z",
     "iopub.status.idle": "2022-10-22T09:34:47.960904Z",
     "shell.execute_reply": "2022-10-22T09:34:47.959682Z"
    },
    "papermill": {
     "duration": 477.368168,
     "end_time": "2022-10-22T09:34:47.963172",
     "exception": false,
     "start_time": "2022-10-22T09:26:50.595004",
     "status": "completed"
    },
    "tags": []
   },
   "outputs": [
    {
     "name": "stdout",
     "output_type": "stream",
     "text": [
      "-------------- Model for airline_sentiment ---------------\n"
     ]
    },
    {
     "name": "stderr",
     "output_type": "stream",
     "text": [
      "2022-10-22 09:27:03.836072: I tensorflow/compiler/mlir/mlir_graph_optimization_pass.cc:185] None of the MLIR Optimization Passes are enabled (registered 2)\n"
     ]
    },
    {
     "name": "stdout",
     "output_type": "stream",
     "text": [
      "Epoch 1/10\n",
      "220/220 [==============================] - 80s 300ms/step - loss: 0.5238 - mse: 0.5238 - val_loss: 0.4087 - val_mse: 0.4087\n",
      "Epoch 2/10\n",
      "220/220 [==============================] - 63s 288ms/step - loss: 0.2455 - mse: 0.2455 - val_loss: 0.1572 - val_mse: 0.1572\n",
      "Epoch 3/10\n",
      "220/220 [==============================] - 63s 287ms/step - loss: 0.1394 - mse: 0.1394 - val_loss: 0.2037 - val_mse: 0.2037\n",
      "Epoch 4/10\n",
      "220/220 [==============================] - 63s 286ms/step - loss: 0.0897 - mse: 0.0897 - val_loss: 0.1553 - val_mse: 0.1553\n",
      "Epoch 5/10\n",
      "220/220 [==============================] - 63s 286ms/step - loss: 0.0641 - mse: 0.0641 - val_loss: 0.1787 - val_mse: 0.1787\n",
      "Epoch 6/10\n",
      "220/220 [==============================] - 63s 286ms/step - loss: 0.0438 - mse: 0.0438 - val_loss: 0.1607 - val_mse: 0.1607\n",
      "Epoch 7/10\n",
      "220/220 [==============================] - 63s 286ms/step - loss: 0.0328 - mse: 0.0328 - val_loss: 0.1753 - val_mse: 0.1753\n",
      "CPU times: user 5min 58s, sys: 34.3 s, total: 6min 33s\n",
      "Wall time: 7min 57s\n"
     ]
    }
   ],
   "source": [
    "%%time\n",
    "\n",
    "target_cols = [\"airline_sentiment\", ]\n",
    "models = {}\n",
    "\n",
    "for i, col in enumerate(target_cols) :\n",
    "            \n",
    "    print (f\"-------------- Model for {col} ---------------\")\n",
    "    model = get_model(train[i])\n",
    "    models[i] = model"
   ]
  },
  {
   "cell_type": "markdown",
   "id": "e1e416b7",
   "metadata": {
    "papermill": {
     "duration": 0.081503,
     "end_time": "2022-10-22T09:34:48.127545",
     "exception": false,
     "start_time": "2022-10-22T09:34:48.046042",
     "status": "completed"
    },
    "tags": []
   },
   "source": [
    "# 5. Submission"
   ]
  },
  {
   "cell_type": "code",
   "execution_count": 16,
   "id": "aa62570c",
   "metadata": {
    "execution": {
     "iopub.execute_input": "2022-10-22T09:34:48.295394Z",
     "iopub.status.busy": "2022-10-22T09:34:48.294750Z",
     "iopub.status.idle": "2022-10-22T09:35:40.393982Z",
     "shell.execute_reply": "2022-10-22T09:35:40.393010Z"
    },
    "papermill": {
     "duration": 52.185324,
     "end_time": "2022-10-22T09:35:40.396382",
     "exception": false,
     "start_time": "2022-10-22T09:34:48.211058",
     "status": "completed"
    },
    "tags": []
   },
   "outputs": [],
   "source": [
    "test_data = create_data(test_df['text'])"
   ]
  },
  {
   "cell_type": "code",
   "execution_count": 17,
   "id": "f1527665",
   "metadata": {
    "execution": {
     "iopub.execute_input": "2022-10-22T09:35:40.564210Z",
     "iopub.status.busy": "2022-10-22T09:35:40.563862Z",
     "iopub.status.idle": "2022-10-22T09:35:50.370977Z",
     "shell.execute_reply": "2022-10-22T09:35:50.369936Z"
    },
    "papermill": {
     "duration": 9.89378,
     "end_time": "2022-10-22T09:35:50.373339",
     "exception": false,
     "start_time": "2022-10-22T09:35:40.479559",
     "status": "completed"
    },
    "tags": []
   },
   "outputs": [],
   "source": [
    "preds = []\n",
    "for i in range(1) :\n",
    "    pred = models[i].predict((np.array(test_data['input_ids']),\n",
    "                              np.array(test_data['attention_masks'])))\n",
    "    preds.append(np.argmax(pred,axis=1))\n",
    "    \n",
    "trues = test_df[\"airline_sentiment\"]"
   ]
  },
  {
   "cell_type": "code",
   "execution_count": 18,
   "id": "133b0bb4",
   "metadata": {
    "execution": {
     "iopub.execute_input": "2022-10-22T09:35:50.544058Z",
     "iopub.status.busy": "2022-10-22T09:35:50.543671Z",
     "iopub.status.idle": "2022-10-22T09:35:50.556248Z",
     "shell.execute_reply": "2022-10-22T09:35:50.554497Z"
    },
    "papermill": {
     "duration": 0.101164,
     "end_time": "2022-10-22T09:35:50.558962",
     "exception": false,
     "start_time": "2022-10-22T09:35:50.457798",
     "status": "completed"
    },
    "tags": []
   },
   "outputs": [
    {
     "name": "stdout",
     "output_type": "stream",
     "text": [
      "              precision    recall  f1-score   support\n",
      "\n",
      "    negative     0.5684    0.3802    0.4556       918\n",
      "     neutral     0.1628    0.2964    0.2102       307\n",
      "    positive     0.1581    0.1925    0.1736       239\n",
      "\n",
      "    accuracy                         0.3320      1464\n",
      "   macro avg     0.2964    0.2897    0.2798      1464\n",
      "weighted avg     0.4164    0.3320    0.3581      1464\n",
      "\n"
     ]
    }
   ],
   "source": [
    "from sklearn.metrics import classification_report\n",
    "print(classification_report(trues,preds[0],target_names=Name,digits=4))"
   ]
  },
  {
   "cell_type": "code",
   "execution_count": null,
   "id": "3528ee64",
   "metadata": {
    "papermill": {
     "duration": 0.082607,
     "end_time": "2022-10-22T09:35:50.725332",
     "exception": false,
     "start_time": "2022-10-22T09:35:50.642725",
     "status": "completed"
    },
    "tags": []
   },
   "outputs": [],
   "source": []
  },
  {
   "cell_type": "code",
   "execution_count": null,
   "id": "4e59033e",
   "metadata": {
    "papermill": {
     "duration": 0.149367,
     "end_time": "2022-10-22T09:35:50.958369",
     "exception": false,
     "start_time": "2022-10-22T09:35:50.809002",
     "status": "completed"
    },
    "tags": []
   },
   "outputs": [],
   "source": []
  }
 ],
 "metadata": {
  "kernelspec": {
   "display_name": "Python 3",
   "language": "python",
   "name": "python3"
  },
  "language_info": {
   "codemirror_mode": {
    "name": "ipython",
    "version": 3
   },
   "file_extension": ".py",
   "mimetype": "text/x-python",
   "name": "python",
   "nbconvert_exporter": "python",
   "pygments_lexer": "ipython3",
   "version": "3.7.12"
  },
  "papermill": {
   "default_parameters": {},
   "duration": 566.718335,
   "end_time": "2022-10-22T09:35:54.518445",
   "environment_variables": {},
   "exception": null,
   "input_path": "__notebook__.ipynb",
   "output_path": "__notebook__.ipynb",
   "parameters": {},
   "start_time": "2022-10-22T09:26:27.800110",
   "version": "2.3.4"
  }
 },
 "nbformat": 4,
 "nbformat_minor": 5
}
